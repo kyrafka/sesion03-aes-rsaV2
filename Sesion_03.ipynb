{
  "nbformat": 4,
  "nbformat_minor": 0,
  "metadata": {
    "colab": {
      "provenance": [],
      "authorship_tag": "ABX9TyOXi8/cqnsbKBUM7oITzwCS",
      "include_colab_link": true
    },
    "kernelspec": {
      "name": "python3",
      "display_name": "Python 3"
    },
    "language_info": {
      "name": "python"
    }
  },
  "cells": [
    {
      "cell_type": "markdown",
      "metadata": {
        "id": "view-in-github",
        "colab_type": "text"
      },
      "source": [
        "<a href=\"https://colab.research.google.com/github/kyrafka/sesion03-aes-rsaV2/blob/main/Sesion_03.ipynb\" target=\"_parent\"><img src=\"https://colab.research.google.com/assets/colab-badge.svg\" alt=\"Open In Colab\"/></a>"
      ]
    },
    {
      "cell_type": "code",
      "execution_count": null,
      "metadata": {
        "colab": {
          "base_uri": "https://localhost:8080/"
        },
        "id": "EKUSDbHmrzzu",
        "outputId": "4fc534b5-0d87-4256-93ab-425ed19a3835"
      },
      "outputs": [
        {
          "output_type": "stream",
          "name": "stdout",
          "text": [
            "Requirement already satisfied: pycryptodome in /usr/local/lib/python3.11/dist-packages (3.22.0)\n",
            "🔐 Tarjeta cifrada (Base64): dCXDNKCZuQKTbsXHJSD/DNxiQIllwMMfgwCigap8x+0=\n",
            "🔒 Clave AES cifrada con RSA (Base64): n+HlQgcfOZfJx7awyCtpOL7og/8w+uOvbwsnQ3HxI1oCYTDT5MJBNIds44voJxF9vjULHKAO8szL3LVOexXCthKEVItQjv+U+Kglae2zoCxzq5G9NVSPwOnGcaWf9UW3gf/Xc0hOcEttr8sdhqHt1AEwo5j5JgsbeCy8+SlSwvF0F3s1C0xLNo5ZZJqt2zTQgyAlsFseZAavlTts2+Jnf6YrpyFRfyuMOcf3gxD62KbOWaGiuse6AV9LUes6OKEzNDHmQygZ1UglO5VGTr8IaJzhTEf8EYhD/5SL+n22TQYiPuJjDs8SHWssA0BPV57FcrNMEcx5F8S8hdpoXXRnwQ==\n",
            "🔓 Clave AES descifrada: a4a8a61d0741096ded22af2d33d3aa8c94835fbb6bdb0e11e0db6697a513c131\n",
            "💳 Tarjeta de crédito descifrada: 123345567\n"
          ]
        }
      ],
      "source": [
        "# 🚀 INSTALAR DEPENDENCIAS\n",
        "!pip install pycryptodome\n",
        "\n",
        "# 📌 IMPORTAR LIBRERÍAS\n",
        "from Crypto.Cipher import AES, PKCS1_OAEP\n",
        "from Crypto.Util.Padding import pad, unpad\n",
        "from Crypto.Random import get_random_bytes\n",
        "from Crypto.PublicKey import RSA\n",
        "import base64\n",
        "\n",
        "# 🔹 1️⃣ GENERAR CLAVE AES Y CIFRAR TARJETA\n",
        "tarjeta_credito = \"123345567\"  # Ejemplo de número de tarjeta\n",
        "\n",
        "# Generar clave AES de 256 bits (32 bytes)\n",
        "clave_aes = get_random_bytes(32)\n",
        "\n",
        "# Crear cifrador AES en modo CBC\n",
        "iv = get_random_bytes(16)  # Vector de inicialización\n",
        "cipher = AES.new(clave_aes, AES.MODE_CBC, iv)\n",
        "\n",
        "# Cifrar los datos con padding\n",
        "datos_cifrados = cipher.encrypt(pad(tarjeta_credito.encode(), AES.block_size))\n",
        "\n",
        "# Convertir a Base64 para almacenar seguro\n",
        "datos_cifrados_b64 = base64.b64encode(iv + datos_cifrados).decode()\n",
        "print(\"🔐 Tarjeta cifrada (Base64):\", datos_cifrados_b64)\n",
        "\n",
        "# 🔹 2️⃣ GENERAR CLAVES RSA Y CIFRAR LA CLAVE AES\n",
        "# Generar clave RSA de 2048 bits\n",
        "clave_rsa = RSA.generate(2048)\n",
        "clave_publica = clave_rsa.publickey()\n",
        "\n",
        "# Cifrar la clave AES con RSA\n",
        "cipher_rsa = PKCS1_OAEP.new(clave_publica)\n",
        "clave_aes_cifrada = cipher_rsa.encrypt(clave_aes)\n",
        "\n",
        "# Convertir la clave AES cifrada a Base64\n",
        "clave_aes_cifrada_b64 = base64.b64encode(clave_aes_cifrada).decode()\n",
        "print(\"🔒 Clave AES cifrada con RSA (Base64):\", clave_aes_cifrada_b64)\n",
        "\n",
        "# 🔹 3️⃣ DESCIFRAR LA CLAVE AES CON RSA\n",
        "cipher_rsa_descifrado = PKCS1_OAEP.new(clave_rsa)\n",
        "clave_aes_descifrada = cipher_rsa_descifrado.decrypt(base64.b64decode(clave_aes_cifrada_b64))\n",
        "\n",
        "print(\"🔓 Clave AES descifrada:\", clave_aes_descifrada.hex())\n",
        "\n",
        "# 🔹 4️⃣ DESCIFRAR LA TARJETA DE CRÉDITO CON AES\n",
        "# Extraer IV y datos cifrados\n",
        "datos_cifrados_decoded = base64.b64decode(datos_cifrados_b64)\n",
        "iv_recuperado = datos_cifrados_decoded[:16]\n",
        "datos_cifrados_real = datos_cifrados_decoded[16:]\n",
        "\n",
        "# Crear descifrador AES con la clave recuperada\n",
        "cipher_dec = AES.new(clave_aes_descifrada, AES.MODE_CBC, iv_recuperado)\n",
        "\n",
        "# Descifrar y quitar padding\n",
        "tarjeta_descifrada = unpad(cipher_dec.decrypt(datos_cifrados_real), AES.block_size).decode()\n",
        "\n",
        "print(\"💳 Tarjeta de crédito descifrada:\", tarjeta_descifrada)\n"
      ]
    }
  ]
}